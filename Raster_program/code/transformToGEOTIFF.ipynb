{
 "cells": [
  {
   "cell_type": "code",
   "execution_count": null,
   "metadata": {},
   "outputs": [],
   "source": [
    "#################################################################################################################\n",
    "#\n",
    "#\n",
    "#\n",
    "#  Proyecto: Integración de rasters en un geotiff estandarizado\n",
    "#  Fecha: 10/06/2019\n",
    "#  Autores: stu-keil urdaibayc\n",
    "#  Licencia: \n",
    "#  Entrada: archivos .kml con referencia a .tiff\n",
    "#  Salida: archivos geotiff en formato RGBA\n",
    "#\n",
    "#\n",
    "#\n",
    "#################################################################################################################"
   ]
  },
  {
   "cell_type": "code",
   "execution_count": 290,
   "metadata": {},
   "outputs": [],
   "source": [
    "import rasterio\n",
    "from rasterio.merge import merge\n",
    "import rasterio.plot\n",
    "import numpy as np\n",
    "import matplotlib\n",
    "import rasterio\n",
    "import os\n",
    "import pandas as pd\n",
    "import gdal\n",
    "\n",
    "%matplotlib inline  "
   ]
  },
  {
   "cell_type": "code",
   "execution_count": 291,
   "metadata": {},
   "outputs": [],
   "source": [
    "###### Manejo de path y extraer nombres de archivos \n",
    "os.getcwd()\n",
    "infilenames = os.listdir(\"../data/raw/\")\n",
    "path_data_raw = \"../data/raw/\"\n",
    "path_data_processed = \"../data/processed/\""
   ]
  },
  {
   "cell_type": "code",
   "execution_count": 292,
   "metadata": {},
   "outputs": [],
   "source": [
    "#Separar kml de tiffs y nombres de radios\n",
    "infilenames_kml = [x for x in infilenames if x.find(\"kml\") > 0]\n",
    "infilenames_tiff =[x for x in infilenames if x.find(\"tiff\") > 0]\n",
    "radio_names = [x.replace('.kml', '') for x in infilenames_kml]\n",
    "infilenames_kml.sort()\n",
    "infilenames_tiff.sort()\n",
    "radio_names.sort()"
   ]
  },
  {
   "cell_type": "code",
   "execution_count": 293,
   "metadata": {},
   "outputs": [],
   "source": [
    "for i in range(len(infilenames_tiff)):\n",
    "    fn = gdal.Open(str(path_data_raw+infilenames_tiff[i]))\n",
    "    band = fn.GetRasterBand(1)\n",
    "    ct   = band.GetRasterColorTable()\n",
    "    f = open(str(path_data_raw+radio_names[i]+\"_rgb_color.txt\"), 'w+')    \n",
    "    for i in range(ct.GetCount()):\n",
    "        sEntry = ct.GetColorEntry(i)\n",
    "        alpha = 100\n",
    "        if (sEntry[0]==sEntry[1])&(sEntry[0]==sEntry[2]):\n",
    "            alpha = 0  \n",
    "        f.write( \"  %3d. %d %d %d %d\\n\" % (i, sEntry[0],sEntry[1],sEntry[2],alpha))\n",
    "    f.close()"
   ]
  },
  {
   "cell_type": "code",
   "execution_count": 294,
   "metadata": {},
   "outputs": [],
   "source": [
    "os.chdir(path_data_raw)\n",
    "path_data_processed = \"../processed/\"\n",
    "for i in range(len(infilenames_kml)):\n",
    "    os.system(str(\"gdal_translate -of GTiff \" + infilenames_kml[i] + \" \" +  str(radio_names[i]+\"_geo.tif\")))\n",
    "    os.system(str(\"gdaldem color-relief -of GTiff \" + str(radio_names[i]+\"_geo.tif\") + \" \"+ str(radio_names[i]+\"_rgb_color.txt\") +\" \" +  str(path_data_processed+radio_names[i]+\"_geo_color.tif -alpha\")))\n",
    "os.chdir(\"../../code\")\n",
    "path_data_processed = \"../data/processed/\""
   ]
  },
  {
   "cell_type": "code",
   "execution_count": 310,
   "metadata": {},
   "outputs": [],
   "source": [
    "files = os.listdir(path_data_processed)\n",
    "fn1 = rasterio.open(str(path_data_processed+files[0]))\n",
    "fn2 = rasterio.open(str(path_data_processed+files[1]))\n",
    "fn3 = rasterio.open(str(path_data_processed+files[2]))\n",
    "fn4 = rasterio.open(str(path_data_processed+files[3]))"
   ]
  },
  {
   "cell_type": "code",
   "execution_count": 243,
   "metadata": {
    "scrolled": true
   },
   "outputs": [
    {
     "ename": "SyntaxError",
     "evalue": "invalid syntax (<ipython-input-243-d0abde3ff552>, line 1)",
     "output_type": "error",
     "traceback": [
      "\u001b[0;36m  File \u001b[0;32m\"<ipython-input-243-d0abde3ff552>\"\u001b[0;36m, line \u001b[0;32m1\u001b[0m\n\u001b[0;31m    rasterio edit-info --nodata 0 Radio_Nationale_du_Tchad-Djamena_geo_color.tif\u001b[0m\n\u001b[0m                ^\u001b[0m\n\u001b[0;31mSyntaxError\u001b[0m\u001b[0;31m:\u001b[0m invalid syntax\n"
     ]
    }
   ],
   "source": [
    "rasterio edit-info --nodata 0 Radio_Nationale_du_Tchad-Djamena_geo_color.tif"
   ]
  },
  {
   "cell_type": "code",
   "execution_count": 275,
   "metadata": {},
   "outputs": [
    {
     "data": {
      "image/png": "[encoded data removed]",
      "text/plain": [
       "<Figure size 432x288 with 1 Axes>"
      ]
     },
     "metadata": {
      "needs_background": "light"
     },
     "output_type": "display_data"
    },
    {
     "data": {
      "text/plain": [
       "<matplotlib.axes._subplots.AxesSubplot at 0x7f1c0f688b00>"
      ]
     },
     "execution_count": 275,
     "metadata": {},
     "output_type": "execute_result"
    }
   ],
   "source": [
    "rasterio.plot.show(fn2)\n"
   ]
  },
  {
   "cell_type": "code",
   "execution_count": 320,
   "metadata": {},
   "outputs": [],
   "source": [
    "mosaic, out_trans = merge([fn1,fn2,fn3,fn4])"
   ]
  },
  {
   "cell_type": "code",
   "execution_count": 321,
   "metadata": {},
   "outputs": [
    {
     "data": {
      "image/png": "[encoded data removed]",
      "text/plain": [
       "<Figure size 432x288 with 1 Axes>"
      ]
     },
     "metadata": {
      "needs_background": "light"
     },
     "output_type": "display_data"
    },
    {
     "data": {
      "text/plain": [
       "<matplotlib.axes._subplots.AxesSubplot at 0x7f1c0f87c978>"
      ]
     },
     "execution_count": 321,
     "metadata": {},
     "output_type": "execute_result"
    }
   ],
   "source": [
    "rasterio.plot.show(mosaic)"
   ]
  },
  {
   "cell_type": "code",
   "execution_count": 322,
   "metadata": {},
   "outputs": [
    {
     "data": {
      "text/plain": [
       "{'driver': 'GTiff',\n",
       " 'dtype': 'uint8',\n",
       " 'nodata': None,\n",
       " 'width': 3000,\n",
       " 'height': 2000,\n",
       " 'count': 4,\n",
       " 'crs': CRS.from_dict(init='epsg:4326'),\n",
       " 'transform': Affine(0.0009204733333333337, 0.0, 13.67876,\n",
       "        0.0, -0.0008998900000000001, 12.9957)}"
      ]
     },
     "execution_count": 322,
     "metadata": {},
     "output_type": "execute_result"
    }
   ],
   "source": [
    "out_meta = fn1.meta.copy()\n",
    "out_meta"
   ]
  },
  {
   "cell_type": "code",
   "execution_count": 323,
   "metadata": {},
   "outputs": [],
   "source": [
    "out_meta.update({\"height\": mosaic.shape[1],\"width\": mosaic.shape[2],\"transform\": out_trans})"
   ]
  },
  {
   "cell_type": "code",
   "execution_count": 324,
   "metadata": {},
   "outputs": [],
   "source": [
    "with rasterio.open(str(path_data_processed+\"mosaic1.tif\"), \"w\", **out_meta) as dest:\n",
    "    dest.write(mosaic)"
   ]
  },
  {
   "cell_type": "code",
   "execution_count": null,
   "metadata": {},
   "outputs": [],
   "source": []
  },
  {
   "cell_type": "code",
   "execution_count": null,
   "metadata": {},
   "outputs": [],
   "source": []
  },
  {
   "cell_type": "code",
   "execution_count": null,
   "metadata": {},
   "outputs": [],
   "source": [
    "\n"
   ]
  },
  {
   "cell_type": "code",
   "execution_count": null,
   "metadata": {},
   "outputs": [],
   "source": []
  },
  {
   "cell_type": "code",
   "execution_count": null,
   "metadata": {},
   "outputs": [],
   "source": []
  },
  {
   "cell_type": "code",
   "execution_count": null,
   "metadata": {},
   "outputs": [],
   "source": []
  },
  {
   "cell_type": "code",
   "execution_count": null,
   "metadata": {},
   "outputs": [],
   "source": []
  },
  {
   "cell_type": "code",
   "execution_count": null,
   "metadata": {},
   "outputs": [],
   "source": []
  },
  {
   "cell_type": "code",
   "execution_count": null,
   "metadata": {},
   "outputs": [],
   "source": []
  },
  {
   "cell_type": "code",
   "execution_count": null,
   "metadata": {},
   "outputs": [],
   "source": []
  },
  {
   "cell_type": "code",
   "execution_count": null,
   "metadata": {},
   "outputs": [],
   "source": []
  },
  {
   "cell_type": "code",
   "execution_count": null,
   "metadata": {},
   "outputs": [],
   "source": []
  },
  {
   "cell_type": "code",
   "execution_count": null,
   "metadata": {},
   "outputs": [],
   "source": []
  },
  {
   "cell_type": "code",
   "execution_count": null,
   "metadata": {},
   "outputs": [],
   "source": []
  },
  {
   "cell_type": "code",
   "execution_count": null,
   "metadata": {},
   "outputs": [],
   "source": []
  }
 ],
 "metadata": {
  "kernelspec": {
   "display_name": "Python 3",
   "language": "python",
   "name": "python3"
  },
  "language_info": {
   "codemirror_mode": {
    "name": "ipython",
    "version": 3
   },
   "file_extension": ".py",
   "mimetype": "text/x-python",
   "name": "python",
   "nbconvert_exporter": "python",
   "pygments_lexer": "ipython3",
   "version": "3.7.3"
  }
 },
 "nbformat": 4,
 "nbformat_minor": 2
}
