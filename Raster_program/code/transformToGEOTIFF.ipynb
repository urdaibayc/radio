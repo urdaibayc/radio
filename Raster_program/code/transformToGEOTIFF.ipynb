{
 "cells": [
  {
   "cell_type": "code",
   "execution_count": 57,
   "metadata": {},
   "outputs": [],
   "source": [
    "#################################################################################################################\n",
    "#\n",
    "#\n",
    "#\n",
    "#  Proyecto: Integración de rasters en un geotiff estandarizado\n",
    "#  Fecha: 10/06/2019\n",
    "#  Autores: stu-keil urdaibayc\n",
    "#  Licencia: \n",
    "#  Entrada: archivos .kml con referencia a .tiff\n",
    "#  Salida: archivos geotiff en formato RGBA\n",
    "#\n",
    "#\n",
    "#\n",
    "#################################################################################################################"
   ]
  },
  {
   "cell_type": "code",
   "execution_count": 4,
   "metadata": {},
   "outputs": [],
   "source": [
    "#importa lo que necesitas\n",
    "import rasterio\n",
    "from rasterio.merge import merge\n",
    "import rasterio.plot\n",
    "import numpy as np\n",
    "import matplotlib\n",
    "import rasterio\n",
    "import os\n",
    "import pandas as pd\n",
    "import gdal\n",
    "from lxml import etree\n",
    "\n",
    "%matplotlib inline  "
   ]
  },
  {
   "cell_type": "code",
   "execution_count": 59,
   "metadata": {},
   "outputs": [],
   "source": [
    "###### Manejo de path y extraer nombres de archivos \n",
    "os.getcwd()\n",
    "path_data_raw = \"../data/raw/\"\n",
    "path_data_processed = \"../data/processed/\"\n",
    "path_data_compo = \"../data/cosmeisgay/\"\n",
    "#Remplaza nombres de archivos por _\n",
    "files = os.listdir(path_data_raw)\n",
    "[os.rename(str(path_data_raw+files[i]), \n",
    "           str(path_data_raw+files[i].replace(\" \", \"_\"))) for i in range(len(files))]\n",
    "files = []\n",
    "infilenames = os.listdir(\"../data/raw/\")"
   ]
  },
  {
   "cell_type": "code",
   "execution_count": 60,
   "metadata": {},
   "outputs": [],
   "source": [
    "#Separar kml de tiffs y nombres de radios\n",
    "infilenames_kml = [x for x in infilenames if x.find(\"kml\") > 0]\n",
    "infilenames_tiff =[x for x in infilenames if x.find(\"tiff\") > 0]\n",
    "radio_names = [x.replace('.kml', '') for x in infilenames_kml]\n",
    "infilenames_kml.sort()\n",
    "infilenames_tiff.sort()\n",
    "radio_names.sort()"
   ]
  },
  {
   "cell_type": "code",
   "execution_count": 62,
   "metadata": {},
   "outputs": [
    {
     "name": "stdout",
     "output_type": "stream",
     "text": [
      "0\n",
      "10\n",
      "20\n",
      "30\n",
      "40\n",
      "50\n",
      "60\n",
      "70\n"
     ]
    }
   ],
   "source": [
    "for i in range(len(infilenames_kml)):\n",
    "    if (i % 10) == 0:\n",
    "        print(i)\n",
    "    with open(str(path_data_raw+infilenames_kml[i]), 'r') as f:\n",
    "        tree = etree.parse(f)\n",
    "    for node in tree.findall('.//kml:name', namespaces={\"kml\":\"http://www.opengis.net/kml/2.2\"}):\n",
    "        node.text = infilenames_tiff[i]\n",
    "    for node in tree.findall('.//kml:href', namespaces={\"kml\":\"http://www.opengis.net/kml/2.2\"}):\n",
    "        node.text = infilenames_tiff[i]\n",
    "    with open(str(path_data_raw+infilenames_kml[i]), 'wb') as f:\n",
    "        tree.write(f)"
   ]
  },
  {
   "cell_type": "code",
   "execution_count": 63,
   "metadata": {},
   "outputs": [
    {
     "name": "stdout",
     "output_type": "stream",
     "text": [
      "0\n",
      "10\n",
      "20\n",
      "30\n",
      "40\n",
      "50\n",
      "60\n",
      "70\n"
     ]
    }
   ],
   "source": [
    "for i in range(len(infilenames_tiff)):\n",
    "    if (i % 10) ==0:\n",
    "        print(i)\n",
    "    fn = gdal.Open(str(path_data_raw+infilenames_tiff[i]))\n",
    "    band = fn.GetRasterBand(1)\n",
    "    ct   = band.GetRasterColorTable()\n",
    "    f = open(str(path_data_raw+radio_names[i]+\"_rgb_color.txt\"), 'w+')    \n",
    "    for i in range(ct.GetCount()):\n",
    "        sEntry = ct.GetColorEntry(i)\n",
    "        alpha = 150\n",
    "        if (sEntry[0]==sEntry[1])&(sEntry[0]==sEntry[2]):\n",
    "            alpha = 0  \n",
    "        f.write( \"  %3d. %d %d %d %d\\n\" % (i, sEntry[0],sEntry[1],sEntry[2],alpha))\n",
    "    f.close()"
   ]
  },
  {
   "cell_type": "code",
   "execution_count": 64,
   "metadata": {},
   "outputs": [
    {
     "name": "stdout",
     "output_type": "stream",
     "text": [
      "0\n",
      "10\n",
      "20\n",
      "30\n",
      "40\n",
      "50\n",
      "60\n",
      "70\n"
     ]
    }
   ],
   "source": [
    "os.chdir(path_data_raw)\n",
    "path_data_processed = \"../processed/\"\n",
    "for i in range(len(infilenames_kml)):\n",
    "    if (i % 10) == 0:\n",
    "        print(i)\n",
    "    os.system(str(\"gdal_translate -of GTiff \" + infilenames_kml[i] + \" \" +  str(radio_names[i]+\"_geo.tif\")))\n",
    "    os.system(str(\"gdaldem color-relief -of GTiff \" + str(radio_names[i]+\"_geo.tif\") + \" \"+ str(radio_names[i]+\"_rgb_color.txt\") +\" \" +  str(path_data_processed+radio_names[i]+\"_geo_color.tif -alpha\")))\n",
    "os.chdir(\"../../code\")\n",
    "path_data_processed = \"../data/processed/\""
   ]
  },
  {
   "cell_type": "code",
   "execution_count": 94,
   "metadata": {},
   "outputs": [
    {
     "name": "stdout",
     "output_type": "stream",
     "text": [
      "0 - 10_Burkina_Radio_la_voix_du_Paysan_Ouahigouya_geo_color.tif\n",
      "1 - 11_Burkina_Radio_la_voix_du_Soum_geo_color.tif\n",
      "2 - 12_Burkina_Radio_lutte_contre_la_desertification_Djibo_geo_color.tif\n",
      "3 - 13_Cameroon_Radio_Bonne_Semence-Bibemi_geo_color.tif\n",
      "4 - 14_Cameroon_Radio_Bon_Berger-Kaelé_geo_color.tif\n",
      "5 - 15_Cameroon_Radio_Demsa_FM-Gaschiga_geo_color.tif\n",
      "6 - 16_Cameroon_Radio_communautaire_de_Tchatibali-Tchatibali_geo_color.tif\n",
      "7 - 17_Chad_Radio_Alhouda_Gnere-Gareda_Dar_Tama_geo_color.tif\n",
      "8 - 18_Chad_Radio_Al-Quouran_Njamena_geo_color.tif\n",
      "9 - 19_Chad_Radio_Al-hadaba_Karal_geo_color.tif\n",
      "10 - 1_Burkina_Evangil_Devellopement_Ouagadoudou_geo_color.tif\n",
      "11 - 20_Chad_Radio_Darbadja__Amtiman_geo_color.tif\n",
      "12 - 21_Chad_Radio_Dja_FM_Njamena_geo_color.tif\n",
      "13 - 22_Chad_Radio_Doumchi_Massakory_geo_color.tif\n",
      "14 - 23_Chad_Radio_Kadaye_Bol_geo_color.tif\n",
      "15 - 24_Chad_Radio_Mabrouka_Sarh_geo_color.tif\n",
      "16 - 25_Chad_Radio_Meguedem_Bousso_geo_color.tif\n",
      "17 - 26_Chad_Radio_Mourgoudida_Massenya_geo_color.tif\n",
      "18 - 27_Chad_Radio_Nationale_du_Tchad-Djamena_geo_color.tif\n",
      "19 - 28_Chad_Radio_Ndjimi_Mao_geo_color.tif\n",
      "20 - 29_Chad_Radio_ONRTV_Moussoro_geo_color.tif\n",
      "21 - 2_Burkina_Radio_Daandé_yali-Sebba_geo_color.tif\n",
      "22 - 30_Niger_Alternative_Zinder_geo_color.tif\n",
      "23 - 31_Niger_Anfani_Diffa_geo_color.tif\n",
      "24 - 32_Niger_Anfani_Maradi_geo_color.tif\n",
      "25 - 33_Niger_Anfani_Niamey_geo_color.tif\n",
      "26 - 34_Niger_Anfani_Zinder_geo_color.tif\n",
      "27 - 35_Niger_Annuri_Mayahi_geo_color.tif\n",
      "28 - 36_Niger_Awalawal_Ingall_geo_color.tif\n",
      "29 - 37_Niger_Baarou_Ouallam_geo_color.tif\n",
      "30 - 38_Niger_Canal_espérance_Niamey_geo_color.tif\n",
      "31 - 39_Niger_Damergou_Tanout_geo_color.tif\n",
      "32 - 3_Burkina_Radio_Islamique_Ahamadiyya_Dori_geo_color.tif\n",
      "33 - 40_Niger_Dileram_Nguiguimi_geo_color.tif\n",
      "34 - 41_Niger_Egandel_Tillia_geo_color.tif\n",
      "35 - 42_Niger_Fofio_Cheri_geo_color.tif\n",
      "36 - 43_Niger_Ganga_Sanam_geo_color.tif\n",
      "37 - 44_Niger_Garkuwa_Maradi_geo_color.tif\n",
      "38 - 45_Niger_Gomni_Alher_Bankilaré_geo_color.tif\n",
      "39 - 46_Niger_Gorouol_Dolbel_geo_color.tif\n",
      "40 - 47_Niger_Hadinkay_Bermo_geo_color.tif\n",
      "41 - 48_Niger_Kakaki_Dan_Issa_geo_color.tif\n",
      "42 - 49_Niger_Kalley-Koye_Tondikiwindi_geo_color.tif\n",
      "43 - 4_Burkina_Radio_Municipale_Dori_geo_color.tif\n",
      "44 - 50_Niger_Kaocen_Arlit_geo_color.tif\n",
      "45 - 51_Niger_Kessa_Goudoumaria_geo_color.tif\n",
      "46 - 52_Niger_Kitari_Magaria_geo_color.tif\n",
      "47 - 53_Niger_Kourmey_Kokorou_geo_color.tif\n",
      "48 - 54_Niger_Lac_Bosso_geo_color.tif\n",
      "49 - 55_Niger_Lakal_Kanay_Banibangou_geo_color.tif\n",
      "50 - 56_Niger_La_voix_des_orpailleurs_Komabangou_geo_color.tif\n",
      "51 - 57_Niger_La_voix_de_l_Azawak_Tchintabaraden_geo_color.tif\n",
      "52 - 58_Niger_Liptako_Téra_geo_color.tif\n",
      "53 - 59_Niger_Maggia_Dogarawa_geo_color.tif\n",
      "54 - 5_Burkina_Radio_Ridwane_Ouagadougou_geo_color.tif\n",
      "55 - 60_Niger_Manbio_Kablewa_geo_color.tif\n",
      "56 - 61_Niger_Mangari_Mainé_Soroa_geo_color.tif\n",
      "57 - 62_Niger_Muryar_Talaka_Fillingué_geo_color.tif\n",
      "58 - 63_Niger_Radio_Komadougou-Gueskerou_geo_color.tif\n",
      "59 - 64_Niger_Sahara_Agadez_geo_color.tif\n",
      "60 - 65_Niger_Saraounia_Tahoua_geo_color.tif\n",
      "61 - 66_Niger_Shukurah_Matamèye_geo_color.tif\n",
      "62 - 67_Niger_Soudji_Ayorou_geo_color.tif\n",
      "63 - 68_Niger_Tadress_Aderbissanet_geo_color.tif\n",
      "64 - 69_Niger_Tamesna_Tassara_geo_color.tif\n",
      "65 - 6_Burkina_Radio_Savane_Gourcy_geo_color.tif\n",
      "66 - 70_Niger_Tamgak_FM_Iférouane_geo_color.tif\n",
      "67 - 71_Niger_Telwa_Dabaga_geo_color.tif\n",
      "68 - 72_Niger_Yerima_chetimari_geo_color.tif\n",
      "69 - 7_Burkina_Radio_Savane_Ouagadougou_geo_color.tif\n",
      "70 - 8_Burkina_Radio_Walde_Ejef-Gorom_Gorom_geo_color.tif\n",
      "71 - 9_Burkina_Radio_Wend_Panga_Ouahigouiya_geo_color.tif\n"
     ]
    }
   ],
   "source": [
    "files = os.listdir(path_data_processed)\n",
    "files.sort()\n",
    "for k in range(len(files)):\n",
    "    print(str(k)+\" - \"+files[k])\n",
    "    ds = gdal.Open(str(path_data_processed+files[k]))\n",
    "    fn1 = rasterio.open(str(path_data_processed+files[k]))\n",
    "    ar = ds.ReadAsArray() \n",
    "    a = np.zeros([ar.shape[1],ar.shape[2]])\n",
    "    for i in range(ar.shape[2]):\n",
    "        #if (i % 500) ==0:\n",
    "            #print(i)\n",
    "        for j in range(ar.shape[1]):\n",
    "            if ar[3,j,i]==0:\n",
    "                a[j,i] = 0\n",
    "            elif sum(ar[0:3,j,i]) in range(570,715):\n",
    "                if ar[0,j,i] in range(200,255):\n",
    "                    a[j,i] = 105\n",
    "                elif ar[0,j,i] in range(120,144):\n",
    "                    a[j,i] = 120\n",
    "                else:\n",
    "                    a[j,i] = 135\n",
    "            elif sum(ar[0:3,j,i]) in range(180,215):\n",
    "                a[j,i] = 150\n",
    "            elif sum(ar[0:3,j,i]) in range(245,260):\n",
    "                if ar[0,j,i] in range(245,260):\n",
    "                    a[j,i] = 240\n",
    "                else:\n",
    "                    a[j,i] = 165\n",
    "            elif sum(ar[0:3,j,i]) in range(490,510):\n",
    "                a[j,i] = 195\n",
    "            elif sum(ar[0:3,j,i]) in range(441,471):\n",
    "                if ar[0,j,i] in range(245,260):\n",
    "                    a[j,i] = 210\n",
    "                else:\n",
    "                    a[j,i] = 180\n",
    "            elif sum(ar[0:3,j,i]) in range(400,424):\n",
    "                a[j,i] = 225\n",
    "            elif sum(ar[0:3,j,i]) in range(425,440):\n",
    "                a[j,i] = 255\n",
    "            else:\n",
    "                a[j,i] = 0\n",
    "    out_meta = fn1.meta.copy()\n",
    "    out_meta.update({\"count\": 1})\n",
    "    with rasterio.open(str(path_data_processed+files[k].replace(\"color\",\"grayscale\")), 'w', **out_meta) as dst:\n",
    "        dst.write(a.astype(rasterio.uint8), 1)"
   ]
  },
  {
   "cell_type": "code",
   "execution_count": 2,
   "metadata": {},
   "outputs": [],
   "source": [
    "def colorFader(c1,c2,mix=0): #fade (linear interpolate) from color c1 (at mix=0) to c2 (mix=1)\n",
    "    c1=np.array(matplotlib.colors.to_rgb(c1))\n",
    "    c2=np.array(matplotlib.colors.to_rgb(c2))\n",
    "    return matplotlib.colors.to_hex((1-mix)*c1 + mix*c2)\n",
    "def hex_to_rgb(value):\n",
    "    value = value.lstrip('#')\n",
    "    lv = len(value)\n",
    "    return tuple(int(value[i:i+int(lv/3)], 16) for i in range(0, lv, int(lv/3)))"
   ]
  },
  {
   "cell_type": "code",
   "execution_count": 8,
   "metadata": {},
   "outputs": [],
   "source": [
    "c2='#f4f5f5' \n",
    "c1='#838ca0' \n",
    "n=50\n",
    "colors = []\n",
    "[colors.append(colorFader(c1,c2,x/n)) for x in range(n+1)]\n",
    "colors = [hex_to_rgb(x) for x in colors]"
   ]
  },
  {
   "cell_type": "code",
   "execution_count": null,
   "metadata": {},
   "outputs": [],
   "source": [
    "path_data_processed_grayscale = '../data/processed_grayscale/'\n",
    "files = os.listdir(path_data_processed_grayscale)\n",
    "files_grayscale =[x for x in files if x.find(\"grayscale\") > 0]\n",
    "files_grayscale.sort()"
   ]
  },
  {
   "cell_type": "code",
   "execution_count": null,
   "metadata": {},
   "outputs": [],
   "source": [
    "fn = gdal.Open(str(path_data_processed_grayscale+files_grayscale[0]))\n",
    "band = fn.GetRasterBand(1)\n",
    "ar = band.ReadAsArray()\n",
    "unique = np.unique(ar)\n",
    "f = open(str(path_data_processed_grayscale+\"rgb_color.txt\"), 'w+') \n",
    "for i in range(len(unique)):\n",
    "    alpha = 160\n",
    "    if unique[i] == 0:\n",
    "        alpha = 0\n",
    "    sEntry = colors[i]\n",
    "    f.write( \"  %3d. %d %d %d %d\\n\" % (unique[i], sEntry[0],sEntry[1],sEntry[2],alpha))\n",
    "f.close()"
   ]
  },
  {
   "cell_type": "code",
   "execution_count": null,
   "metadata": {},
   "outputs": [],
   "source": [
    "os.chdir(path_data_processed_grayscale)\n",
    "os.system(str(\"gdaldem color-relief -of GTiff final2.tif rgb_color.txt final2_colorramp.tif -alpha\"))\n",
    "os.chdir(\"../../code\")"
   ]
  },
  {
   "cell_type": "code",
   "execution_count": null,
   "metadata": {},
   "outputs": [],
   "source": [
    "merge_files = []\n",
    "for i in range(len(files)):\n",
    "    src = rasterio.open(str(path_data_processed_grayscale+files[i]))\n",
    "    merge_files.append(src)"
   ]
  },
  {
   "cell_type": "code",
   "execution_count": null,
   "metadata": {},
   "outputs": [],
   "source": [
    "mosaic, out_trans = merge(merge_files)"
   ]
  },
  {
   "cell_type": "code",
   "execution_count": null,
   "metadata": {},
   "outputs": [],
   "source": [
    "out_meta = src.meta.copy()\n",
    "out_meta.update({\"height\": mosaic.shape[1],\"width\": mosaic.shape[2],\"transform\": out_trans})\n",
    "with rasterio.open(str(path_data_compo+\"mosaic1.tif\"), \"w\", **out_meta) as dest:\n",
    "    dest.write(mosaic)"
   ]
  },
  {
   "cell_type": "code",
   "execution_count": null,
   "metadata": {},
   "outputs": [],
   "source": [
    "#rasterio.plot.show(mosaic)"
   ]
  }
 ],
 "metadata": {
  "kernelspec": {
   "display_name": "Python 3",
   "language": "python",
   "name": "python3"
  },
  "language_info": {
   "codemirror_mode": {
    "name": "ipython",
    "version": 3
   },
   "file_extension": ".py",
   "mimetype": "text/x-python",
   "name": "python",
   "nbconvert_exporter": "python",
   "pygments_lexer": "ipython3",
   "version": "3.7.3"
  }
 },
 "nbformat": 4,
 "nbformat_minor": 2
}
